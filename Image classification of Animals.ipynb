{
  "nbformat": 4,
  "nbformat_minor": 0,
  "metadata": {
    "colab": {
      "provenance": [],
      "gpuType": "T4"
    },
    "kernelspec": {
      "name": "python3",
      "display_name": "Python 3"
    },
    "language_info": {
      "name": "python"
    },
    "accelerator": "GPU"
  },
  "cells": [
    {
      "cell_type": "markdown",
      "source": [
        "# Image Classification\n",
        "\n",
        "In this  you will be building a script to classify images of animals. The assignment is broken up into sections and you need to complete each section successively. The sections are:\n",
        "\n",
        "1. Data Processing\n",
        "2. Model Definition\n",
        "3. Model Training\n",
        "4. Model Evaluation\n",
        "\n",
        "In addition to this coding exercise, you will also need to write a 1-2 page report analysing and critically evaluating you models results."
      ],
      "metadata": {
        "id": "nQrpKRkEIBB5"
      }
    },
    {
      "cell_type": "code",
      "execution_count": null,
      "metadata": {
        "id": "eBNRzib8voMm"
      },
      "outputs": [],
      "source": [
        "# Enter your module imports here, some modules are already provided\n",
        "\n",
        "import numpy as np\n",
        "import matplotlib.pyplot as plt\n",
        "import tensorflow as tf\n",
        "from tensorflow import keras\n",
        "import os\n",
        "import pathlib\n",
        "from tensorflow.keras.layers import Input, Conv2D, MaxPooling2D, GlobalAveragePooling2D, Dense\n",
        "from tensorflow.keras.callbacks import ModelCheckpoint\n",
        "from sklearn.metrics import confusion_matrix, classification_report\n",
        "import seaborn as sns\n",
        "import pandas as pd"
      ]
    },
    {
      "cell_type": "code",
      "source": [
        "\n",
        "from google.colab import drive\n",
        "drive.mount('/content/drive')"
      ],
      "metadata": {
        "id": "MGHk085OWCT_",
        "colab": {
          "base_uri": "https://localhost:8080/"
        },
        "outputId": "20bd7946-da17-4426-a87a-97c497def5eb"
      },
      "execution_count": null,
      "outputs": [
        {
          "output_type": "stream",
          "name": "stdout",
          "text": [
            "Mounted at /content/drive\n"
          ]
        }
      ]
    },
    {
      "cell_type": "markdown",
      "source": [
        "# Data Processing\n",
        "\n"
      ],
      "metadata": {
        "id": "PN-7QYYKKCOH"
      }
    },
    {
      "cell_type": "code",
      "source": [
        "# CodeGrade Tag DataProc\n",
        "\n",
        "label_dict = {'cat' : 0,\n",
        "              'dog' : 1,\n",
        "              'wild' : 2}\n",
        "\n",
        "# This function is provided to read in the image files from the folder on your\n",
        "# Google Drive\n",
        "def parse_image(filename):\n",
        "  parts = tf.strings.split(filename, os.sep)\n",
        "  label = parts[-2]\n",
        "  label = tf.strings.to_number(label)\n",
        "\n",
        "  image = tf.io.read_file(filename)\n",
        "  image = tf.io.decode_jpeg(image)\n",
        "  return image, label\n",
        "\n",
        "img_loc = \"/content/drive/MyDrive/Animals/\"\n",
        "\n",
        "train_list_ds = tf.data.Dataset.list_files(img_loc + \"train/*/*\")\n",
        "valid_list_ds = tf.data.Dataset.list_files(img_loc + \"val/*/*\")\n"
      ],
      "metadata": {
        "id": "9yWqczq8KGI6"
      },
      "execution_count": null,
      "outputs": []
    },
    {
      "cell_type": "markdown",
      "source": [
        "**Create a function called \"img_process\" converts the images to float32 datatype and resizes them to 64x64 pixels.**"
      ],
      "metadata": {
        "id": "q3hIMuVQM4AN"
      }
    },
    {
      "cell_type": "code",
      "source": [
        "\n",
        "### Write a function called img_process, which takes in the image and label as\n",
        "### inputs, converts the data type of the image to tf.float32, resizes the\n",
        "### image to (64,64), and finally returns the image and labels.\n",
        "\n",
        "def img_process(image, label):\n",
        "    # Convert image data type to tf.float32\n",
        "    image = tf.image.convert_image_dtype(image, dtype=tf.float32)\n",
        "    # Resize image to (64, 64)\n",
        "    image = tf.image.resize(image, [64, 64])\n",
        "    print(\"Processed Image Shape:\", image.shape)\n",
        "    print(\"Label:\", label)\n",
        "    return image, label\n",
        "print(img_process)\n"
      ],
      "metadata": {
        "id": "BxtGcsAWM3gs",
        "colab": {
          "base_uri": "https://localhost:8080/"
        },
        "outputId": "f6b9d5c0-f3ee-40a8-bd11-b93714db7e52"
      },
      "execution_count": null,
      "outputs": [
        {
          "output_type": "stream",
          "name": "stdout",
          "text": [
            "<function img_process at 0x7d56872c13f0>\n"
          ]
        }
      ]
    },
    {
      "cell_type": "markdown",
      "source": [
        "**Using the tf.data API, load in the training and validation data. Be mindful of efficient data processing good practice to minimise the time it takes to load the data.**"
      ],
      "metadata": {
        "id": "G51UPu0fNmNf"
      }
    },
    {
      "cell_type": "code",
      "source": [
        "\n",
        "### Use the parse_image and img_process functions to construct the training and\n",
        "### validation datasets. You should utilise good practice in optimising the\n",
        "### dataset loading. Use a batch size of 128. Use techniques like caching and\n",
        "### prefetching to efficiently load the data.\n",
        "\n",
        "# Data Processing with tf.data API\n",
        "AUTOTUNE = tf.data.AUTOTUNE\n",
        "batch_size = 128\n",
        "\n",
        "# Load and preprocess training data\n",
        "train_ds = (\n",
        "    tf.data.Dataset.list_files(img_loc + \"train/*/*\")\n",
        "    .map(parse_image, num_parallel_calls=AUTOTUNE)\n",
        "    .map(img_process, num_parallel_calls=AUTOTUNE)\n",
        "    .shuffle(buffer_size=1000)\n",
        "    .batch(batch_size)\n",
        "    .cache()\n",
        "    .prefetch(buffer_size=AUTOTUNE)\n",
        ")\n",
        "\n",
        "# Load and preprocess validation data\n",
        "valid_ds = (\n",
        "    tf.data.Dataset.list_files(img_loc + \"val/*/*\")\n",
        "    .map(parse_image, num_parallel_calls=AUTOTUNE)\n",
        "    .map(img_process, num_parallel_calls=AUTOTUNE)\n",
        "    .batch(batch_size)\n",
        "    .cache()\n",
        "    .prefetch(buffer_size=AUTOTUNE)\n",
        ")\n",
        "\n"
      ],
      "metadata": {
        "id": "VNUS8p98Ph5L",
        "colab": {
          "base_uri": "https://localhost:8080/"
        },
        "outputId": "49544d8e-7c12-4372-a23c-7f25631d3714"
      },
      "execution_count": null,
      "outputs": [
        {
          "output_type": "stream",
          "name": "stdout",
          "text": [
            "Processed Image Shape: (64, 64, None)\n",
            "Label: Tensor(\"args_1:0\", shape=(), dtype=float32)\n",
            "Processed Image Shape: (64, 64, None)\n",
            "Label: Tensor(\"args_1:0\", shape=(), dtype=float32)\n"
          ]
        }
      ]
    },
    {
      "cell_type": "markdown",
      "source": [
        "# Model Definition\n",
        "\n",
        "**Using the Keras Functional API, create a convolutional neural network with the architecture show in the model summary below.**\n",
        "\n",
        "**A few important points to consider:**\n",
        "\n",
        "* Call the convolutional layers and the first dense layer should have ReLU activation functions. The output layer should have a SoftMax activation function.\n",
        "* Pay attention to the output shapes and the number of partmeters for each layer, as these give indications as to the correct settings for the number of filters, kernel size, stride length and padding.\n",
        "* Use the layer names provided in the summary in your model."
      ],
      "metadata": {
        "id": "86Uo36n_KGYb"
      }
    },
    {
      "cell_type": "code",
      "source": [
        "\n",
        "### Define the model using the Keras Functional API. Use the summary above as a\n",
        "### guide for the model parameters. You will need to define the filters/units of\n",
        "### the layers correctly, as well as the kernel size, stride length and padding\n",
        "### of the convolutional layers.\n",
        "# Define the input layer\n",
        "input_layer = Input(shape=(64, 64, 3), name='Input')\n",
        "\n",
        "# Convolutional layers\n",
        "conv0 = Conv2D(16, kernel_size=(5, 5), strides=(2, 2), padding='same', activation='relu', name='Conv0')(input_layer)\n",
        "conv1 = Conv2D(32, kernel_size=(3, 3), strides=(1, 1), padding='same', activation='relu', name='Conv1')(conv0)\n",
        "conv2 = Conv2D(32, kernel_size=(3, 3), strides=(1, 1), padding='same', activation='relu', name='Conv2')(conv1)\n",
        "pool1 = MaxPooling2D(pool_size=(2, 2), strides=(2, 2), name='Pool1')(conv2)\n",
        "\n",
        "conv3 = Conv2D(64, kernel_size=(3, 3), strides=(1, 1), padding='same', activation='relu', name='Conv3')(pool1)\n",
        "conv4 = Conv2D(64, kernel_size=(3, 3), strides=(1, 1), padding='same', activation='relu', name='Conv4')(conv3)\n",
        "pool2 = MaxPooling2D(pool_size=(2, 2), strides=(2, 2), name='Pool2')(conv4)\n",
        "\n",
        "conv5 = Conv2D(128, kernel_size=(3, 3), strides=(1, 1), padding='same', activation='relu', name='Conv5')(pool2)\n",
        "conv6 = Conv2D(128, kernel_size=(3, 3), strides=(1, 1), padding='same', activation='relu', name='Conv6')(conv5)\n",
        "\n",
        "# Global Average Pooling layer\n",
        "global_pool = GlobalAveragePooling2D(name='GlobalPool')(conv6)\n",
        "\n",
        "# Fully Connected layers\n",
        "fc1 = Dense(512, activation='relu', name='FC1')(global_pool)\n",
        "\n",
        "# Output layer\n",
        "output_layer = Dense(10, activation='softmax', name='Output')(fc1)# when total classes are 3 why are we making ten classes ?\n",
        "\n",
        "# Create the model\n",
        "model = keras.Model(inputs=input_layer, outputs=output_layer)\n",
        "\n"
      ],
      "metadata": {
        "id": "im9qipCiKJMK"
      },
      "execution_count": null,
      "outputs": []
    },
    {
      "cell_type": "code",
      "source": [
        "\n",
        "### Print the model summary and confirm is has the same architecture as the one\n",
        "### provided.\n",
        "# Display the model summary\n",
        "model.summary()"
      ],
      "metadata": {
        "id": "4ogeFQCqnz06",
        "colab": {
          "base_uri": "https://localhost:8080/"
        },
        "outputId": "1f64aeca-d373-4e4a-bf14-3032b0388e6e"
      },
      "execution_count": null,
      "outputs": [
        {
          "output_type": "stream",
          "name": "stdout",
          "text": [
            "Model: \"model\"\n",
            "_________________________________________________________________\n",
            " Layer (type)                Output Shape              Param #   \n",
            "=================================================================\n",
            " Input (InputLayer)          [(None, 64, 64, 3)]       0         \n",
            "                                                                 \n",
            " Conv0 (Conv2D)              (None, 32, 32, 16)        1216      \n",
            "                                                                 \n",
            " Conv1 (Conv2D)              (None, 32, 32, 32)        4640      \n",
            "                                                                 \n",
            " Conv2 (Conv2D)              (None, 32, 32, 32)        9248      \n",
            "                                                                 \n",
            " Pool1 (MaxPooling2D)        (None, 16, 16, 32)        0         \n",
            "                                                                 \n",
            " Conv3 (Conv2D)              (None, 16, 16, 64)        18496     \n",
            "                                                                 \n",
            " Conv4 (Conv2D)              (None, 16, 16, 64)        36928     \n",
            "                                                                 \n",
            " Pool2 (MaxPooling2D)        (None, 8, 8, 64)          0         \n",
            "                                                                 \n",
            " Conv5 (Conv2D)              (None, 8, 8, 128)         73856     \n",
            "                                                                 \n",
            " Conv6 (Conv2D)              (None, 8, 8, 128)         147584    \n",
            "                                                                 \n",
            " GlobalPool (GlobalAverageP  (None, 128)               0         \n",
            " ooling2D)                                                       \n",
            "                                                                 \n",
            " FC1 (Dense)                 (None, 512)               66048     \n",
            "                                                                 \n",
            " Output (Dense)              (None, 10)                5130      \n",
            "                                                                 \n",
            "=================================================================\n",
            "Total params: 363146 (1.39 MB)\n",
            "Trainable params: 363146 (1.39 MB)\n",
            "Non-trainable params: 0 (0.00 Byte)\n",
            "_________________________________________________________________\n"
          ]
        }
      ]
    },
    {
      "cell_type": "markdown",
      "source": [
        "**Compile the model using the Adam Optimizer with a learning rate of ```5e-5```, ```sparse categorical crossentropy``` loss function, and ```accuracy``` metric.**"
      ],
      "metadata": {
        "id": "7Q4qQnsuP-CM"
      }
    },
    {
      "cell_type": "code",
      "source": [
        "\n",
        "# Compile the model\n",
        "optimizer = tf.keras.optimizers.Adam(learning_rate=5e-5)\n",
        "model.compile(optimizer=optimizer,\n",
        "              loss='sparse_categorical_crossentropy',\n",
        "              metrics=['accuracy'])\n",
        "\n"
      ],
      "metadata": {
        "id": "qndXNKsyQl2G"
      },
      "execution_count": null,
      "outputs": []
    },
    {
      "cell_type": "markdown",
      "source": [
        "# Model Training\n",
        "\n",
        "**Create a Model Checkpoint Callback that saves the weights of the best performing epoch, based on the validation accuracy.**"
      ],
      "metadata": {
        "id": "4G9gILWpKJXP"
      }
    },
    {
      "cell_type": "code",
      "source": [
        "\n",
        "### Create a ModelCheckpoint callback to store the bext weights from the model,\n",
        "### based on the validation accuracy. Call this callback \"checkpoint_callback\"\n",
        "\n",
        "\n",
        "\n",
        "# Define the checkpoint callback\n",
        "checkpoint_filepath = '/content/checkpoint'\n",
        "checkpoint_callback = ModelCheckpoint(filepath=checkpoint_filepath,\n",
        "                                      save_weights_only=True,\n",
        "                                      monitor='val_accuracy',\n",
        "                                      mode='max',\n",
        "                                      save_best_only=True,\n",
        "                                      verbose=1)\n",
        "\n",
        "\n"
      ],
      "metadata": {
        "id": "ulXjHaiZKLLZ"
      },
      "execution_count": null,
      "outputs": []
    },
    {
      "cell_type": "markdown",
      "source": [
        "**Create a Learning Rate Scheduler Callback that utilises the provided function to decrease the learning rate during training.**"
      ],
      "metadata": {
        "id": "9iUsL966RQMJ"
      }
    },
    {
      "cell_type": "code",
      "source": [
        "\n",
        "### Using the function provided, create a LearningRateScheduler callback, call\n",
        "### it \"lr_callback\"\n",
        "\n",
        "from tensorflow.keras.callbacks import LearningRateScheduler\n",
        "\n",
        "# Define the learning rate scheduler callback\n",
        "def scheduler(epoch, lr):\n",
        "    if epoch < 10:\n",
        "        return lr\n",
        "    else:\n",
        "        return lr * tf.math.exp(-0.01)\n",
        "\n",
        "lr_callback = LearningRateScheduler(scheduler)\n",
        "\n",
        "\n",
        "\n"
      ],
      "metadata": {
        "id": "5jhC3C7qRX1B"
      },
      "execution_count": null,
      "outputs": []
    },
    {
      "cell_type": "markdown",
      "source": [
        "**Train the model for 100 epochs, using the callbacks you made previously. Store the losses and metrics to use later.**"
      ],
      "metadata": {
        "id": "zQbqwZNjRYIC"
      }
    },
    {
      "cell_type": "code",
      "source": [
        "\n",
        "### Train the model for 100 epochs, using the callbacks you have created. Store\n",
        "### the losses and metrics in a history object.\n",
        "\n",
        "# Model Training with ModelCheckpoint and LearningRateScheduler callbacks\n",
        "num_epochs = 100\n",
        "history = model.fit(train_ds, epochs=num_epochs, validation_data=valid_ds, callbacks=[checkpoint_callback, lr_callback])\n",
        "\n",
        "# Access losses and metrics from the history object\n",
        "train_loss = history.history['loss']\n",
        "train_accuracy = history.history['accuracy']\n",
        "val_loss = history.history['val_loss']\n",
        "val_accuracy = history.history['val_accuracy']\n"
      ],
      "metadata": {
        "id": "05qEIpORRfr8",
        "colab": {
          "base_uri": "https://localhost:8080/"
        },
        "outputId": "2279d0e6-881d-49f5-b156-3ee6cc98b5a7"
      },
      "execution_count": null,
      "outputs": [
        {
          "output_type": "stream",
          "name": "stdout",
          "text": [
            "Epoch 1/100\n",
            "115/115 [==============================] - ETA: 0s - loss: 1.5037 - accuracy: 0.3283 \n",
            "Epoch 1: val_accuracy improved from -inf to 0.33333, saving model to /content/checkpoint\n",
            "115/115 [==============================] - 1491s 12s/step - loss: 1.5037 - accuracy: 0.3283 - val_loss: 1.1009 - val_accuracy: 0.3333 - lr: 5.0000e-05\n",
            "Epoch 2/100\n",
            "114/115 [============================>.] - ETA: 0s - loss: 1.0995 - accuracy: 0.3558\n",
            "Epoch 2: val_accuracy did not improve from 0.33333\n",
            "115/115 [==============================] - 2s 17ms/step - loss: 1.0995 - accuracy: 0.3558 - val_loss: 1.0952 - val_accuracy: 0.3333 - lr: 5.0000e-05\n",
            "Epoch 3/100\n",
            "113/115 [============================>.] - ETA: 0s - loss: 1.0719 - accuracy: 0.3983\n",
            "Epoch 3: val_accuracy improved from 0.33333 to 0.52533, saving model to /content/checkpoint\n",
            "115/115 [==============================] - 2s 16ms/step - loss: 1.0711 - accuracy: 0.4000 - val_loss: 1.0098 - val_accuracy: 0.5253 - lr: 5.0000e-05\n",
            "Epoch 4/100\n",
            "113/115 [============================>.] - ETA: 0s - loss: 0.9710 - accuracy: 0.4981\n",
            "Epoch 4: val_accuracy improved from 0.52533 to 0.56467, saving model to /content/checkpoint\n",
            "115/115 [==============================] - 2s 18ms/step - loss: 0.9699 - accuracy: 0.4990 - val_loss: 0.9051 - val_accuracy: 0.5647 - lr: 5.0000e-05\n",
            "Epoch 5/100\n",
            "112/115 [============================>.] - ETA: 0s - loss: 0.8904 - accuracy: 0.5564\n",
            "Epoch 5: val_accuracy improved from 0.56467 to 0.61467, saving model to /content/checkpoint\n",
            "115/115 [==============================] - 2s 19ms/step - loss: 0.8891 - accuracy: 0.5572 - val_loss: 0.8333 - val_accuracy: 0.6147 - lr: 5.0000e-05\n",
            "Epoch 6/100\n",
            "115/115 [==============================] - ETA: 0s - loss: 0.8396 - accuracy: 0.5872\n",
            "Epoch 6: val_accuracy improved from 0.61467 to 0.62667, saving model to /content/checkpoint\n",
            "115/115 [==============================] - 2s 18ms/step - loss: 0.8396 - accuracy: 0.5872 - val_loss: 0.8001 - val_accuracy: 0.6267 - lr: 5.0000e-05\n",
            "Epoch 7/100\n",
            "113/115 [============================>.] - ETA: 0s - loss: 0.8059 - accuracy: 0.6154\n",
            "Epoch 7: val_accuracy improved from 0.62667 to 0.64933, saving model to /content/checkpoint\n",
            "115/115 [==============================] - 2s 18ms/step - loss: 0.8050 - accuracy: 0.6158 - val_loss: 0.7699 - val_accuracy: 0.6493 - lr: 5.0000e-05\n",
            "Epoch 8/100\n",
            "114/115 [============================>.] - ETA: 0s - loss: 0.7718 - accuracy: 0.6439\n",
            "Epoch 8: val_accuracy improved from 0.64933 to 0.66867, saving model to /content/checkpoint\n",
            "115/115 [==============================] - 2s 16ms/step - loss: 0.7716 - accuracy: 0.6440 - val_loss: 0.7484 - val_accuracy: 0.6687 - lr: 5.0000e-05\n",
            "Epoch 9/100\n",
            "115/115 [==============================] - ETA: 0s - loss: 0.7364 - accuracy: 0.6710\n",
            "Epoch 9: val_accuracy improved from 0.66867 to 0.69867, saving model to /content/checkpoint\n",
            "115/115 [==============================] - 2s 16ms/step - loss: 0.7364 - accuracy: 0.6710 - val_loss: 0.7066 - val_accuracy: 0.6987 - lr: 5.0000e-05\n",
            "Epoch 10/100\n",
            "112/115 [============================>.] - ETA: 0s - loss: 0.7042 - accuracy: 0.6878\n",
            "Epoch 10: val_accuracy improved from 0.69867 to 0.71533, saving model to /content/checkpoint\n",
            "115/115 [==============================] - 2s 16ms/step - loss: 0.7039 - accuracy: 0.6879 - val_loss: 0.6760 - val_accuracy: 0.7153 - lr: 5.0000e-05\n",
            "Epoch 11/100\n",
            "114/115 [============================>.] - ETA: 0s - loss: 0.6746 - accuracy: 0.7012\n",
            "Epoch 11: val_accuracy did not improve from 0.71533\n",
            "115/115 [==============================] - 2s 19ms/step - loss: 0.6744 - accuracy: 0.7013 - val_loss: 0.6477 - val_accuracy: 0.7153 - lr: 4.9502e-05\n",
            "Epoch 12/100\n",
            "112/115 [============================>.] - ETA: 0s - loss: 0.6500 - accuracy: 0.7155\n",
            "Epoch 12: val_accuracy improved from 0.71533 to 0.72267, saving model to /content/checkpoint\n",
            "115/115 [==============================] - 2s 19ms/step - loss: 0.6496 - accuracy: 0.7161 - val_loss: 0.6256 - val_accuracy: 0.7227 - lr: 4.9010e-05\n",
            "Epoch 13/100\n",
            "115/115 [==============================] - ETA: 0s - loss: 0.6288 - accuracy: 0.7259\n",
            "Epoch 13: val_accuracy improved from 0.72267 to 0.73067, saving model to /content/checkpoint\n",
            "115/115 [==============================] - 2s 17ms/step - loss: 0.6288 - accuracy: 0.7259 - val_loss: 0.6077 - val_accuracy: 0.7307 - lr: 4.8522e-05\n",
            "Epoch 14/100\n",
            "113/115 [============================>.] - ETA: 0s - loss: 0.6115 - accuracy: 0.7344\n",
            "Epoch 14: val_accuracy improved from 0.73067 to 0.74133, saving model to /content/checkpoint\n",
            "115/115 [==============================] - 2s 16ms/step - loss: 0.6110 - accuracy: 0.7350 - val_loss: 0.5924 - val_accuracy: 0.7413 - lr: 4.8039e-05\n",
            "Epoch 15/100\n",
            "115/115 [==============================] - ETA: 0s - loss: 0.5960 - accuracy: 0.7418\n",
            "Epoch 15: val_accuracy improved from 0.74133 to 0.74933, saving model to /content/checkpoint\n",
            "115/115 [==============================] - 2s 17ms/step - loss: 0.5960 - accuracy: 0.7418 - val_loss: 0.5783 - val_accuracy: 0.7493 - lr: 4.7561e-05\n",
            "Epoch 16/100\n",
            "114/115 [============================>.] - ETA: 0s - loss: 0.5824 - accuracy: 0.7465\n",
            "Epoch 16: val_accuracy improved from 0.74933 to 0.75533, saving model to /content/checkpoint\n",
            "115/115 [==============================] - 2s 17ms/step - loss: 0.5822 - accuracy: 0.7466 - val_loss: 0.5654 - val_accuracy: 0.7553 - lr: 4.7088e-05\n",
            "Epoch 17/100\n",
            "115/115 [==============================] - ETA: 0s - loss: 0.5702 - accuracy: 0.7529\n",
            "Epoch 17: val_accuracy improved from 0.75533 to 0.76200, saving model to /content/checkpoint\n",
            "115/115 [==============================] - 2s 17ms/step - loss: 0.5702 - accuracy: 0.7529 - val_loss: 0.5538 - val_accuracy: 0.7620 - lr: 4.6620e-05\n",
            "Epoch 18/100\n",
            "113/115 [============================>.] - ETA: 0s - loss: 0.5594 - accuracy: 0.7584\n",
            "Epoch 18: val_accuracy improved from 0.76200 to 0.76667, saving model to /content/checkpoint\n",
            "115/115 [==============================] - 2s 18ms/step - loss: 0.5589 - accuracy: 0.7592 - val_loss: 0.5424 - val_accuracy: 0.7667 - lr: 4.6156e-05\n",
            "Epoch 19/100\n",
            "113/115 [============================>.] - ETA: 0s - loss: 0.5487 - accuracy: 0.7642\n",
            "Epoch 19: val_accuracy improved from 0.76667 to 0.77533, saving model to /content/checkpoint\n",
            "115/115 [==============================] - 2s 19ms/step - loss: 0.5481 - accuracy: 0.7650 - val_loss: 0.5314 - val_accuracy: 0.7753 - lr: 4.5697e-05\n",
            "Epoch 20/100\n",
            "112/115 [============================>.] - ETA: 0s - loss: 0.5389 - accuracy: 0.7705\n",
            "Epoch 20: val_accuracy improved from 0.77533 to 0.78733, saving model to /content/checkpoint\n",
            "115/115 [==============================] - 2s 16ms/step - loss: 0.5381 - accuracy: 0.7716 - val_loss: 0.5209 - val_accuracy: 0.7873 - lr: 4.5242e-05\n",
            "Epoch 21/100\n",
            "115/115 [==============================] - ETA: 0s - loss: 0.5285 - accuracy: 0.7768\n",
            "Epoch 21: val_accuracy improved from 0.78733 to 0.79333, saving model to /content/checkpoint\n",
            "115/115 [==============================] - 2s 17ms/step - loss: 0.5285 - accuracy: 0.7768 - val_loss: 0.5106 - val_accuracy: 0.7933 - lr: 4.4792e-05\n",
            "Epoch 22/100\n",
            "115/115 [==============================] - ETA: 0s - loss: 0.5192 - accuracy: 0.7811\n",
            "Epoch 22: val_accuracy improved from 0.79333 to 0.79800, saving model to /content/checkpoint\n",
            "115/115 [==============================] - 2s 17ms/step - loss: 0.5192 - accuracy: 0.7811 - val_loss: 0.5008 - val_accuracy: 0.7980 - lr: 4.4346e-05\n",
            "Epoch 23/100\n",
            "112/115 [============================>.] - ETA: 0s - loss: 0.5111 - accuracy: 0.7857\n",
            "Epoch 23: val_accuracy improved from 0.79800 to 0.80067, saving model to /content/checkpoint\n",
            "115/115 [==============================] - 2s 17ms/step - loss: 0.5102 - accuracy: 0.7864 - val_loss: 0.4914 - val_accuracy: 0.8007 - lr: 4.3905e-05\n",
            "Epoch 24/100\n",
            "114/115 [============================>.] - ETA: 0s - loss: 0.5018 - accuracy: 0.7914\n",
            "Epoch 24: val_accuracy improved from 0.80067 to 0.80533, saving model to /content/checkpoint\n",
            "115/115 [==============================] - 2s 17ms/step - loss: 0.5015 - accuracy: 0.7915 - val_loss: 0.4823 - val_accuracy: 0.8053 - lr: 4.3468e-05\n",
            "Epoch 25/100\n",
            "114/115 [============================>.] - ETA: 0s - loss: 0.4935 - accuracy: 0.7954\n",
            "Epoch 25: val_accuracy improved from 0.80533 to 0.80933, saving model to /content/checkpoint\n",
            "115/115 [==============================] - 2s 19ms/step - loss: 0.4932 - accuracy: 0.7956 - val_loss: 0.4740 - val_accuracy: 0.8093 - lr: 4.3035e-05\n",
            "Epoch 26/100\n",
            "112/115 [============================>.] - ETA: 0s - loss: 0.4862 - accuracy: 0.7978\n",
            "Epoch 26: val_accuracy improved from 0.80933 to 0.81067, saving model to /content/checkpoint\n",
            "115/115 [==============================] - 2s 20ms/step - loss: 0.4851 - accuracy: 0.7984 - val_loss: 0.4656 - val_accuracy: 0.8107 - lr: 4.2607e-05\n",
            "Epoch 27/100\n",
            "115/115 [==============================] - ETA: 0s - loss: 0.4773 - accuracy: 0.8012\n",
            "Epoch 27: val_accuracy improved from 0.81067 to 0.81467, saving model to /content/checkpoint\n",
            "115/115 [==============================] - 2s 17ms/step - loss: 0.4773 - accuracy: 0.8012 - val_loss: 0.4582 - val_accuracy: 0.8147 - lr: 4.2183e-05\n",
            "Epoch 28/100\n",
            "114/115 [============================>.] - ETA: 0s - loss: 0.4702 - accuracy: 0.8056\n",
            "Epoch 28: val_accuracy improved from 0.81467 to 0.81733, saving model to /content/checkpoint\n",
            "115/115 [==============================] - 2s 17ms/step - loss: 0.4699 - accuracy: 0.8058 - val_loss: 0.4508 - val_accuracy: 0.8173 - lr: 4.1764e-05\n",
            "Epoch 29/100\n",
            "113/115 [============================>.] - ETA: 0s - loss: 0.4636 - accuracy: 0.8103\n",
            "Epoch 29: val_accuracy did not improve from 0.81733\n",
            "115/115 [==============================] - 2s 16ms/step - loss: 0.4629 - accuracy: 0.8106 - val_loss: 0.4437 - val_accuracy: 0.8173 - lr: 4.1348e-05\n",
            "Epoch 30/100\n",
            "113/115 [============================>.] - ETA: 0s - loss: 0.4568 - accuracy: 0.8142\n",
            "Epoch 30: val_accuracy improved from 0.81733 to 0.82133, saving model to /content/checkpoint\n",
            "115/115 [==============================] - 2s 17ms/step - loss: 0.4561 - accuracy: 0.8146 - val_loss: 0.4369 - val_accuracy: 0.8213 - lr: 4.0937e-05\n",
            "Epoch 31/100\n",
            "113/115 [============================>.] - ETA: 0s - loss: 0.4503 - accuracy: 0.8172\n",
            "Epoch 31: val_accuracy did not improve from 0.82133\n",
            "115/115 [==============================] - 2s 17ms/step - loss: 0.4496 - accuracy: 0.8176 - val_loss: 0.4303 - val_accuracy: 0.8193 - lr: 4.0529e-05\n",
            "Epoch 32/100\n",
            "114/115 [============================>.] - ETA: 0s - loss: 0.4435 - accuracy: 0.8210\n",
            "Epoch 32: val_accuracy did not improve from 0.82133\n",
            "115/115 [==============================] - 2s 19ms/step - loss: 0.4432 - accuracy: 0.8213 - val_loss: 0.4235 - val_accuracy: 0.8213 - lr: 4.0126e-05\n",
            "Epoch 33/100\n",
            "114/115 [============================>.] - ETA: 0s - loss: 0.4376 - accuracy: 0.8240\n",
            "Epoch 33: val_accuracy improved from 0.82133 to 0.82467, saving model to /content/checkpoint\n",
            "115/115 [==============================] - 2s 19ms/step - loss: 0.4373 - accuracy: 0.8243 - val_loss: 0.4178 - val_accuracy: 0.8247 - lr: 3.9727e-05\n",
            "Epoch 34/100\n",
            "113/115 [============================>.] - ETA: 0s - loss: 0.4322 - accuracy: 0.8267\n",
            "Epoch 34: val_accuracy improved from 0.82467 to 0.82800, saving model to /content/checkpoint\n",
            "115/115 [==============================] - 2s 17ms/step - loss: 0.4315 - accuracy: 0.8271 - val_loss: 0.4120 - val_accuracy: 0.8280 - lr: 3.9331e-05\n",
            "Epoch 35/100\n",
            "114/115 [============================>.] - ETA: 0s - loss: 0.4261 - accuracy: 0.8296\n",
            "Epoch 35: val_accuracy improved from 0.82800 to 0.83067, saving model to /content/checkpoint\n",
            "115/115 [==============================] - 2s 17ms/step - loss: 0.4258 - accuracy: 0.8298 - val_loss: 0.4059 - val_accuracy: 0.8307 - lr: 3.8940e-05\n",
            "Epoch 36/100\n",
            "113/115 [============================>.] - ETA: 0s - loss: 0.4210 - accuracy: 0.8321\n",
            "Epoch 36: val_accuracy improved from 0.83067 to 0.83200, saving model to /content/checkpoint\n",
            "115/115 [==============================] - 2s 17ms/step - loss: 0.4204 - accuracy: 0.8323 - val_loss: 0.4006 - val_accuracy: 0.8320 - lr: 3.8553e-05\n",
            "Epoch 37/100\n",
            "115/115 [==============================] - ETA: 0s - loss: 0.4151 - accuracy: 0.8341\n",
            "Epoch 37: val_accuracy improved from 0.83200 to 0.83600, saving model to /content/checkpoint\n",
            "115/115 [==============================] - 2s 17ms/step - loss: 0.4151 - accuracy: 0.8341 - val_loss: 0.3947 - val_accuracy: 0.8360 - lr: 3.8169e-05\n",
            "Epoch 38/100\n",
            "114/115 [============================>.] - ETA: 0s - loss: 0.4104 - accuracy: 0.8363\n",
            "Epoch 38: val_accuracy improved from 0.83600 to 0.83667, saving model to /content/checkpoint\n",
            "115/115 [==============================] - 2s 22ms/step - loss: 0.4101 - accuracy: 0.8365 - val_loss: 0.3897 - val_accuracy: 0.8367 - lr: 3.7789e-05\n",
            "Epoch 39/100\n",
            "115/115 [==============================] - ETA: 0s - loss: 0.4053 - accuracy: 0.8390\n",
            "Epoch 39: val_accuracy improved from 0.83667 to 0.83867, saving model to /content/checkpoint\n",
            "115/115 [==============================] - 3s 29ms/step - loss: 0.4053 - accuracy: 0.8390 - val_loss: 0.3846 - val_accuracy: 0.8387 - lr: 3.7413e-05\n",
            "Epoch 40/100\n",
            "114/115 [============================>.] - ETA: 0s - loss: 0.4008 - accuracy: 0.8406\n",
            "Epoch 40: val_accuracy improved from 0.83867 to 0.84067, saving model to /content/checkpoint\n",
            "115/115 [==============================] - 3s 24ms/step - loss: 0.4005 - accuracy: 0.8407 - val_loss: 0.3797 - val_accuracy: 0.8407 - lr: 3.7041e-05\n",
            "Epoch 41/100\n",
            "115/115 [==============================] - ETA: 0s - loss: 0.3957 - accuracy: 0.8430\n",
            "Epoch 41: val_accuracy improved from 0.84067 to 0.84267, saving model to /content/checkpoint\n",
            "115/115 [==============================] - 2s 19ms/step - loss: 0.3957 - accuracy: 0.8430 - val_loss: 0.3751 - val_accuracy: 0.8427 - lr: 3.6672e-05\n",
            "Epoch 42/100\n",
            "113/115 [============================>.] - ETA: 0s - loss: 0.3917 - accuracy: 0.8450\n",
            "Epoch 42: val_accuracy improved from 0.84267 to 0.84533, saving model to /content/checkpoint\n",
            "115/115 [==============================] - 2s 19ms/step - loss: 0.3911 - accuracy: 0.8453 - val_loss: 0.3704 - val_accuracy: 0.8453 - lr: 3.6307e-05\n",
            "Epoch 43/100\n",
            "113/115 [============================>.] - ETA: 0s - loss: 0.3872 - accuracy: 0.8472\n",
            "Epoch 43: val_accuracy improved from 0.84533 to 0.84800, saving model to /content/checkpoint\n",
            "115/115 [==============================] - 3s 26ms/step - loss: 0.3866 - accuracy: 0.8475 - val_loss: 0.3660 - val_accuracy: 0.8480 - lr: 3.5946e-05\n",
            "Epoch 44/100\n",
            "113/115 [============================>.] - ETA: 0s - loss: 0.3828 - accuracy: 0.8489\n",
            "Epoch 44: val_accuracy improved from 0.84800 to 0.85067, saving model to /content/checkpoint\n",
            "115/115 [==============================] - 3s 23ms/step - loss: 0.3822 - accuracy: 0.8492 - val_loss: 0.3619 - val_accuracy: 0.8507 - lr: 3.5589e-05\n",
            "Epoch 45/100\n",
            "114/115 [============================>.] - ETA: 0s - loss: 0.3784 - accuracy: 0.8513\n",
            "Epoch 45: val_accuracy improved from 0.85067 to 0.85133, saving model to /content/checkpoint\n",
            "115/115 [==============================] - 2s 20ms/step - loss: 0.3781 - accuracy: 0.8514 - val_loss: 0.3578 - val_accuracy: 0.8513 - lr: 3.5234e-05\n",
            "Epoch 46/100\n",
            "113/115 [============================>.] - ETA: 0s - loss: 0.3746 - accuracy: 0.8533\n",
            "Epoch 46: val_accuracy improved from 0.85133 to 0.85267, saving model to /content/checkpoint\n",
            "115/115 [==============================] - 2s 18ms/step - loss: 0.3740 - accuracy: 0.8536 - val_loss: 0.3538 - val_accuracy: 0.8527 - lr: 3.4884e-05\n",
            "Epoch 47/100\n",
            "112/115 [============================>.] - ETA: 0s - loss: 0.3713 - accuracy: 0.8541\n",
            "Epoch 47: val_accuracy improved from 0.85267 to 0.85533, saving model to /content/checkpoint\n",
            "115/115 [==============================] - 2s 18ms/step - loss: 0.3701 - accuracy: 0.8548 - val_loss: 0.3499 - val_accuracy: 0.8553 - lr: 3.4537e-05\n",
            "Epoch 48/100\n",
            "114/115 [============================>.] - ETA: 0s - loss: 0.3663 - accuracy: 0.8571\n",
            "Epoch 48: val_accuracy improved from 0.85533 to 0.85600, saving model to /content/checkpoint\n",
            "115/115 [==============================] - 3s 25ms/step - loss: 0.3660 - accuracy: 0.8573 - val_loss: 0.3465 - val_accuracy: 0.8560 - lr: 3.4193e-05\n",
            "Epoch 49/100\n",
            "115/115 [==============================] - ETA: 0s - loss: 0.3623 - accuracy: 0.8589\n",
            "Epoch 49: val_accuracy improved from 0.85600 to 0.85733, saving model to /content/checkpoint\n",
            "115/115 [==============================] - 3s 22ms/step - loss: 0.3623 - accuracy: 0.8589 - val_loss: 0.3429 - val_accuracy: 0.8573 - lr: 3.3853e-05\n",
            "Epoch 50/100\n",
            "115/115 [==============================] - ETA: 0s - loss: 0.3585 - accuracy: 0.8609\n",
            "Epoch 50: val_accuracy improved from 0.85733 to 0.85933, saving model to /content/checkpoint\n",
            "115/115 [==============================] - 2s 20ms/step - loss: 0.3585 - accuracy: 0.8609 - val_loss: 0.3395 - val_accuracy: 0.8593 - lr: 3.3516e-05\n",
            "Epoch 51/100\n",
            "112/115 [============================>.] - ETA: 0s - loss: 0.3562 - accuracy: 0.8613\n",
            "Epoch 51: val_accuracy improved from 0.85933 to 0.86000, saving model to /content/checkpoint\n",
            "115/115 [==============================] - 2s 16ms/step - loss: 0.3550 - accuracy: 0.8621 - val_loss: 0.3361 - val_accuracy: 0.8600 - lr: 3.3183e-05\n",
            "Epoch 52/100\n",
            "114/115 [============================>.] - ETA: 0s - loss: 0.3518 - accuracy: 0.8631\n",
            "Epoch 52: val_accuracy did not improve from 0.86000\n",
            "115/115 [==============================] - 2s 18ms/step - loss: 0.3515 - accuracy: 0.8633 - val_loss: 0.3330 - val_accuracy: 0.8600 - lr: 3.2852e-05\n",
            "Epoch 53/100\n",
            "114/115 [============================>.] - ETA: 0s - loss: 0.3485 - accuracy: 0.8647\n",
            "Epoch 53: val_accuracy did not improve from 0.86000\n",
            "115/115 [==============================] - 2s 18ms/step - loss: 0.3482 - accuracy: 0.8649 - val_loss: 0.3298 - val_accuracy: 0.8600 - lr: 3.2525e-05\n",
            "Epoch 54/100\n",
            "113/115 [============================>.] - ETA: 0s - loss: 0.3454 - accuracy: 0.8659\n",
            "Epoch 54: val_accuracy improved from 0.86000 to 0.86467, saving model to /content/checkpoint\n",
            "115/115 [==============================] - 2s 17ms/step - loss: 0.3448 - accuracy: 0.8662 - val_loss: 0.3269 - val_accuracy: 0.8647 - lr: 3.2202e-05\n",
            "Epoch 55/100\n",
            "114/115 [============================>.] - ETA: 0s - loss: 0.3420 - accuracy: 0.8678\n",
            "Epoch 55: val_accuracy improved from 0.86467 to 0.86800, saving model to /content/checkpoint\n",
            "115/115 [==============================] - 2s 17ms/step - loss: 0.3417 - accuracy: 0.8680 - val_loss: 0.3240 - val_accuracy: 0.8680 - lr: 3.1881e-05\n",
            "Epoch 56/100\n",
            "115/115 [==============================] - ETA: 0s - loss: 0.3386 - accuracy: 0.8695\n",
            "Epoch 56: val_accuracy improved from 0.86800 to 0.86933, saving model to /content/checkpoint\n",
            "115/115 [==============================] - 2s 17ms/step - loss: 0.3386 - accuracy: 0.8695 - val_loss: 0.3212 - val_accuracy: 0.8693 - lr: 3.1564e-05\n",
            "Epoch 57/100\n",
            "114/115 [============================>.] - ETA: 0s - loss: 0.3359 - accuracy: 0.8710\n",
            "Epoch 57: val_accuracy improved from 0.86933 to 0.87067, saving model to /content/checkpoint\n",
            "115/115 [==============================] - 2s 17ms/step - loss: 0.3356 - accuracy: 0.8712 - val_loss: 0.3186 - val_accuracy: 0.8707 - lr: 3.1250e-05\n",
            "Epoch 58/100\n",
            "114/115 [============================>.] - ETA: 0s - loss: 0.3329 - accuracy: 0.8722\n",
            "Epoch 58: val_accuracy improved from 0.87067 to 0.87267, saving model to /content/checkpoint\n",
            "115/115 [==============================] - 2s 19ms/step - loss: 0.3326 - accuracy: 0.8724 - val_loss: 0.3159 - val_accuracy: 0.8727 - lr: 3.0939e-05\n",
            "Epoch 59/100\n",
            "112/115 [============================>.] - ETA: 0s - loss: 0.3310 - accuracy: 0.8733\n",
            "Epoch 59: val_accuracy did not improve from 0.87267\n",
            "115/115 [==============================] - 2s 19ms/step - loss: 0.3298 - accuracy: 0.8740 - val_loss: 0.3134 - val_accuracy: 0.8727 - lr: 3.0631e-05\n",
            "Epoch 60/100\n",
            "112/115 [============================>.] - ETA: 0s - loss: 0.3283 - accuracy: 0.8747\n",
            "Epoch 60: val_accuracy improved from 0.87267 to 0.87467, saving model to /content/checkpoint\n",
            "115/115 [==============================] - 2s 17ms/step - loss: 0.3271 - accuracy: 0.8755 - val_loss: 0.3111 - val_accuracy: 0.8747 - lr: 3.0327e-05\n",
            "Epoch 61/100\n",
            "112/115 [============================>.] - ETA: 0s - loss: 0.3257 - accuracy: 0.8754\n",
            "Epoch 61: val_accuracy improved from 0.87467 to 0.87600, saving model to /content/checkpoint\n",
            "115/115 [==============================] - 2s 17ms/step - loss: 0.3245 - accuracy: 0.8762 - val_loss: 0.3087 - val_accuracy: 0.8760 - lr: 3.0025e-05\n",
            "Epoch 62/100\n",
            "113/115 [============================>.] - ETA: 0s - loss: 0.3226 - accuracy: 0.8762\n",
            "Epoch 62: val_accuracy improved from 0.87600 to 0.87667, saving model to /content/checkpoint\n",
            "115/115 [==============================] - 2s 16ms/step - loss: 0.3220 - accuracy: 0.8766 - val_loss: 0.3065 - val_accuracy: 0.8767 - lr: 2.9726e-05\n",
            "Epoch 63/100\n",
            "112/115 [============================>.] - ETA: 0s - loss: 0.3209 - accuracy: 0.8760\n",
            "Epoch 63: val_accuracy did not improve from 0.87667\n",
            "115/115 [==============================] - 2s 16ms/step - loss: 0.3197 - accuracy: 0.8768 - val_loss: 0.3045 - val_accuracy: 0.8760 - lr: 2.9430e-05\n",
            "Epoch 64/100\n",
            "112/115 [============================>.] - ETA: 0s - loss: 0.3186 - accuracy: 0.8771\n",
            "Epoch 64: val_accuracy did not improve from 0.87667\n",
            "115/115 [==============================] - 2s 19ms/step - loss: 0.3174 - accuracy: 0.8779 - val_loss: 0.3027 - val_accuracy: 0.8753 - lr: 2.9137e-05\n",
            "Epoch 65/100\n",
            "114/115 [============================>.] - ETA: 0s - loss: 0.3155 - accuracy: 0.8786\n",
            "Epoch 65: val_accuracy did not improve from 0.87667\n",
            "115/115 [==============================] - 2s 19ms/step - loss: 0.3152 - accuracy: 0.8788 - val_loss: 0.3011 - val_accuracy: 0.8753 - lr: 2.8847e-05\n",
            "Epoch 66/100\n",
            "112/115 [============================>.] - ETA: 0s - loss: 0.3144 - accuracy: 0.8793\n",
            "Epoch 66: val_accuracy improved from 0.87667 to 0.87733, saving model to /content/checkpoint\n",
            "115/115 [==============================] - 2s 16ms/step - loss: 0.3132 - accuracy: 0.8800 - val_loss: 0.2996 - val_accuracy: 0.8773 - lr: 2.8560e-05\n",
            "Epoch 67/100\n",
            "112/115 [============================>.] - ETA: 0s - loss: 0.3126 - accuracy: 0.8800\n",
            "Epoch 67: val_accuracy improved from 0.87733 to 0.87867, saving model to /content/checkpoint\n",
            "115/115 [==============================] - 2s 17ms/step - loss: 0.3114 - accuracy: 0.8807 - val_loss: 0.2986 - val_accuracy: 0.8787 - lr: 2.8276e-05\n",
            "Epoch 68/100\n",
            "115/115 [==============================] - ETA: 0s - loss: 0.3098 - accuracy: 0.8813\n",
            "Epoch 68: val_accuracy did not improve from 0.87867\n",
            "115/115 [==============================] - 2s 16ms/step - loss: 0.3098 - accuracy: 0.8813 - val_loss: 0.2978 - val_accuracy: 0.8773 - lr: 2.7995e-05\n",
            "Epoch 69/100\n",
            "114/115 [============================>.] - ETA: 0s - loss: 0.3088 - accuracy: 0.8817\n",
            "Epoch 69: val_accuracy did not improve from 0.87867\n",
            "115/115 [==============================] - 2s 16ms/step - loss: 0.3085 - accuracy: 0.8819 - val_loss: 0.2972 - val_accuracy: 0.8773 - lr: 2.7716e-05\n",
            "Epoch 70/100\n",
            "114/115 [============================>.] - ETA: 0s - loss: 0.3081 - accuracy: 0.8823\n",
            "Epoch 70: val_accuracy did not improve from 0.87867\n",
            "115/115 [==============================] - 2s 17ms/step - loss: 0.3079 - accuracy: 0.8824 - val_loss: 0.2963 - val_accuracy: 0.8780 - lr: 2.7441e-05\n",
            "Epoch 71/100\n",
            "113/115 [============================>.] - ETA: 0s - loss: 0.3084 - accuracy: 0.8818\n",
            "Epoch 71: val_accuracy did not improve from 0.87867\n",
            "115/115 [==============================] - 2s 19ms/step - loss: 0.3077 - accuracy: 0.8823 - val_loss: 0.2934 - val_accuracy: 0.8760 - lr: 2.7168e-05\n",
            "Epoch 72/100\n",
            "115/115 [==============================] - ETA: 0s - loss: 0.3067 - accuracy: 0.8831\n",
            "Epoch 72: val_accuracy improved from 0.87867 to 0.88267, saving model to /content/checkpoint\n",
            "115/115 [==============================] - 2s 18ms/step - loss: 0.3067 - accuracy: 0.8831 - val_loss: 0.2892 - val_accuracy: 0.8827 - lr: 2.6897e-05\n",
            "Epoch 73/100\n",
            "112/115 [============================>.] - ETA: 0s - loss: 0.3059 - accuracy: 0.8841\n",
            "Epoch 73: val_accuracy did not improve from 0.88267\n",
            "115/115 [==============================] - 2s 16ms/step - loss: 0.3046 - accuracy: 0.8849 - val_loss: 0.2864 - val_accuracy: 0.8813 - lr: 2.6630e-05\n",
            "Epoch 74/100\n",
            "114/115 [============================>.] - ETA: 0s - loss: 0.3023 - accuracy: 0.8850\n",
            "Epoch 74: val_accuracy improved from 0.88267 to 0.88467, saving model to /content/checkpoint\n",
            "115/115 [==============================] - 2s 17ms/step - loss: 0.3021 - accuracy: 0.8852 - val_loss: 0.2843 - val_accuracy: 0.8847 - lr: 2.6365e-05\n",
            "Epoch 75/100\n",
            "112/115 [============================>.] - ETA: 0s - loss: 0.3010 - accuracy: 0.8849\n",
            "Epoch 75: val_accuracy improved from 0.88467 to 0.88733, saving model to /content/checkpoint\n",
            "115/115 [==============================] - 2s 16ms/step - loss: 0.2998 - accuracy: 0.8857 - val_loss: 0.2826 - val_accuracy: 0.8873 - lr: 2.6102e-05\n",
            "Epoch 76/100\n",
            "114/115 [============================>.] - ETA: 0s - loss: 0.2979 - accuracy: 0.8867\n",
            "Epoch 76: val_accuracy did not improve from 0.88733\n",
            "115/115 [==============================] - 2s 16ms/step - loss: 0.2977 - accuracy: 0.8868 - val_loss: 0.2810 - val_accuracy: 0.8873 - lr: 2.5843e-05\n",
            "Epoch 77/100\n",
            "114/115 [============================>.] - ETA: 0s - loss: 0.2959 - accuracy: 0.8875\n",
            "Epoch 77: val_accuracy improved from 0.88733 to 0.88867, saving model to /content/checkpoint\n",
            "115/115 [==============================] - 2s 19ms/step - loss: 0.2957 - accuracy: 0.8876 - val_loss: 0.2796 - val_accuracy: 0.8887 - lr: 2.5585e-05\n",
            "Epoch 78/100\n",
            "114/115 [============================>.] - ETA: 0s - loss: 0.2939 - accuracy: 0.8882\n",
            "Epoch 78: val_accuracy improved from 0.88867 to 0.89000, saving model to /content/checkpoint\n",
            "115/115 [==============================] - 2s 18ms/step - loss: 0.2937 - accuracy: 0.8884 - val_loss: 0.2783 - val_accuracy: 0.8900 - lr: 2.5331e-05\n",
            "Epoch 79/100\n",
            "115/115 [==============================] - ETA: 0s - loss: 0.2919 - accuracy: 0.8894\n",
            "Epoch 79: val_accuracy did not improve from 0.89000\n",
            "115/115 [==============================] - 2s 16ms/step - loss: 0.2919 - accuracy: 0.8894 - val_loss: 0.2770 - val_accuracy: 0.8900 - lr: 2.5079e-05\n",
            "Epoch 80/100\n",
            "113/115 [============================>.] - ETA: 0s - loss: 0.2906 - accuracy: 0.8897\n",
            "Epoch 80: val_accuracy did not improve from 0.89000\n",
            "115/115 [==============================] - 2s 15ms/step - loss: 0.2900 - accuracy: 0.8901 - val_loss: 0.2758 - val_accuracy: 0.8900 - lr: 2.4829e-05\n",
            "Epoch 81/100\n",
            "112/115 [============================>.] - ETA: 0s - loss: 0.2895 - accuracy: 0.8901\n",
            "Epoch 81: val_accuracy improved from 0.89000 to 0.89200, saving model to /content/checkpoint\n",
            "115/115 [==============================] - 2s 16ms/step - loss: 0.2883 - accuracy: 0.8908 - val_loss: 0.2747 - val_accuracy: 0.8920 - lr: 2.4582e-05\n",
            "Epoch 82/100\n",
            "113/115 [============================>.] - ETA: 0s - loss: 0.2872 - accuracy: 0.8907\n",
            "Epoch 82: val_accuracy improved from 0.89200 to 0.89267, saving model to /content/checkpoint\n",
            "115/115 [==============================] - 2s 18ms/step - loss: 0.2867 - accuracy: 0.8911 - val_loss: 0.2736 - val_accuracy: 0.8927 - lr: 2.4338e-05\n",
            "Epoch 83/100\n",
            "112/115 [============================>.] - ETA: 0s - loss: 0.2861 - accuracy: 0.8912\n",
            "Epoch 83: val_accuracy improved from 0.89267 to 0.89400, saving model to /content/checkpoint\n",
            "115/115 [==============================] - 2s 19ms/step - loss: 0.2850 - accuracy: 0.8918 - val_loss: 0.2727 - val_accuracy: 0.8940 - lr: 2.4095e-05\n",
            "Epoch 84/100\n",
            "112/115 [============================>.] - ETA: 0s - loss: 0.2845 - accuracy: 0.8921\n",
            "Epoch 84: val_accuracy improved from 0.89400 to 0.89467, saving model to /content/checkpoint\n",
            "115/115 [==============================] - 2s 18ms/step - loss: 0.2834 - accuracy: 0.8927 - val_loss: 0.2717 - val_accuracy: 0.8947 - lr: 2.3856e-05\n",
            "Epoch 85/100\n",
            "112/115 [============================>.] - ETA: 0s - loss: 0.2830 - accuracy: 0.8933\n",
            "Epoch 85: val_accuracy improved from 0.89467 to 0.89667, saving model to /content/checkpoint\n",
            "115/115 [==============================] - 2s 16ms/step - loss: 0.2818 - accuracy: 0.8939 - val_loss: 0.2708 - val_accuracy: 0.8967 - lr: 2.3618e-05\n",
            "Epoch 86/100\n",
            "114/115 [============================>.] - ETA: 0s - loss: 0.2804 - accuracy: 0.8943\n",
            "Epoch 86: val_accuracy did not improve from 0.89667\n",
            "115/115 [==============================] - 2s 16ms/step - loss: 0.2803 - accuracy: 0.8944 - val_loss: 0.2700 - val_accuracy: 0.8960 - lr: 2.3383e-05\n",
            "Epoch 87/100\n",
            "114/115 [============================>.] - ETA: 0s - loss: 0.2789 - accuracy: 0.8947\n",
            "Epoch 87: val_accuracy did not improve from 0.89667\n",
            "115/115 [==============================] - 2s 16ms/step - loss: 0.2788 - accuracy: 0.8949 - val_loss: 0.2692 - val_accuracy: 0.8967 - lr: 2.3151e-05\n",
            "Epoch 88/100\n",
            "113/115 [============================>.] - ETA: 0s - loss: 0.2778 - accuracy: 0.8951\n",
            "Epoch 88: val_accuracy did not improve from 0.89667\n",
            "115/115 [==============================] - 2s 16ms/step - loss: 0.2773 - accuracy: 0.8954 - val_loss: 0.2685 - val_accuracy: 0.8967 - lr: 2.2920e-05\n",
            "Epoch 89/100\n",
            "113/115 [============================>.] - ETA: 0s - loss: 0.2764 - accuracy: 0.8957\n",
            "Epoch 89: val_accuracy did not improve from 0.89667\n",
            "115/115 [==============================] - 2s 18ms/step - loss: 0.2759 - accuracy: 0.8960 - val_loss: 0.2678 - val_accuracy: 0.8967 - lr: 2.2692e-05\n",
            "Epoch 90/100\n",
            "115/115 [==============================] - ETA: 0s - loss: 0.2745 - accuracy: 0.8966\n",
            "Epoch 90: val_accuracy did not improve from 0.89667\n",
            "115/115 [==============================] - 2s 18ms/step - loss: 0.2745 - accuracy: 0.8966 - val_loss: 0.2672 - val_accuracy: 0.8967 - lr: 2.2466e-05\n",
            "Epoch 91/100\n",
            "115/115 [==============================] - ETA: 0s - loss: 0.2732 - accuracy: 0.8969\n",
            "Epoch 91: val_accuracy improved from 0.89667 to 0.89733, saving model to /content/checkpoint\n",
            "115/115 [==============================] - 2s 18ms/step - loss: 0.2732 - accuracy: 0.8969 - val_loss: 0.2666 - val_accuracy: 0.8973 - lr: 2.2243e-05\n",
            "Epoch 92/100\n",
            "114/115 [============================>.] - ETA: 0s - loss: 0.2720 - accuracy: 0.8971\n",
            "Epoch 92: val_accuracy did not improve from 0.89733\n",
            "115/115 [==============================] - 2s 16ms/step - loss: 0.2718 - accuracy: 0.8972 - val_loss: 0.2661 - val_accuracy: 0.8973 - lr: 2.2022e-05\n",
            "Epoch 93/100\n",
            "113/115 [============================>.] - ETA: 0s - loss: 0.2711 - accuracy: 0.8980\n",
            "Epoch 93: val_accuracy did not improve from 0.89733\n",
            "115/115 [==============================] - 2s 16ms/step - loss: 0.2705 - accuracy: 0.8983 - val_loss: 0.2656 - val_accuracy: 0.8967 - lr: 2.1802e-05\n",
            "Epoch 94/100\n",
            "112/115 [============================>.] - ETA: 0s - loss: 0.2704 - accuracy: 0.8984\n",
            "Epoch 94: val_accuracy did not improve from 0.89733\n",
            "115/115 [==============================] - 2s 16ms/step - loss: 0.2693 - accuracy: 0.8991 - val_loss: 0.2650 - val_accuracy: 0.8967 - lr: 2.1586e-05\n",
            "Epoch 95/100\n",
            "113/115 [============================>.] - ETA: 0s - loss: 0.2686 - accuracy: 0.8993\n",
            "Epoch 95: val_accuracy improved from 0.89733 to 0.89867, saving model to /content/checkpoint\n",
            "115/115 [==============================] - 3s 22ms/step - loss: 0.2681 - accuracy: 0.8996 - val_loss: 0.2647 - val_accuracy: 0.8987 - lr: 2.1371e-05\n",
            "Epoch 96/100\n",
            "115/115 [==============================] - ETA: 0s - loss: 0.2668 - accuracy: 0.8998\n",
            "Epoch 96: val_accuracy improved from 0.89867 to 0.90000, saving model to /content/checkpoint\n",
            "115/115 [==============================] - 2s 18ms/step - loss: 0.2668 - accuracy: 0.8998 - val_loss: 0.2644 - val_accuracy: 0.9000 - lr: 2.1158e-05\n",
            "Epoch 97/100\n",
            "115/115 [==============================] - ETA: 0s - loss: 0.2657 - accuracy: 0.8996\n",
            "Epoch 97: val_accuracy did not improve from 0.90000\n",
            "115/115 [==============================] - 2s 16ms/step - loss: 0.2657 - accuracy: 0.8996 - val_loss: 0.2641 - val_accuracy: 0.8993 - lr: 2.0948e-05\n",
            "Epoch 98/100\n",
            "114/115 [============================>.] - ETA: 0s - loss: 0.2646 - accuracy: 0.8999\n",
            "Epoch 98: val_accuracy did not improve from 0.90000\n",
            "115/115 [==============================] - 2s 16ms/step - loss: 0.2645 - accuracy: 0.9001 - val_loss: 0.2639 - val_accuracy: 0.9000 - lr: 2.0739e-05\n",
            "Epoch 99/100\n",
            "114/115 [============================>.] - ETA: 0s - loss: 0.2635 - accuracy: 0.9004\n",
            "Epoch 99: val_accuracy did not improve from 0.90000\n",
            "115/115 [==============================] - 2s 16ms/step - loss: 0.2634 - accuracy: 0.9005 - val_loss: 0.2636 - val_accuracy: 0.8993 - lr: 2.0533e-05\n",
            "Epoch 100/100\n",
            "115/115 [==============================] - ETA: 0s - loss: 0.2623 - accuracy: 0.9005\n",
            "Epoch 100: val_accuracy did not improve from 0.90000\n",
            "115/115 [==============================] - 2s 17ms/step - loss: 0.2623 - accuracy: 0.9005 - val_loss: 0.2635 - val_accuracy: 0.8987 - lr: 2.0328e-05\n"
          ]
        }
      ]
    },
    {
      "cell_type": "markdown",
      "source": [
        "# Model Evaluation\n",
        "\n",
        "**Create plots using the losses and metrics. In your report, discuss these results and critically evaluate the models performance.**"
      ],
      "metadata": {
        "id": "hkaP8sRwKLYn"
      }
    },
    {
      "cell_type": "code",
      "source": [
        "\n",
        "\n",
        "# Plot training and validation loss\n",
        "plt.figure(figsize=(12, 6))\n",
        "plt.subplot(1, 2, 1)\n",
        "plt.plot(history.history['loss'], label='Training Loss')\n",
        "plt.plot(history.history['val_loss'], label='Validation Loss')\n",
        "plt.title('Training and Validation Loss')\n",
        "plt.xlabel('Epoch')\n",
        "plt.ylabel('Loss')\n",
        "plt.legend()\n",
        "\n",
        "# Plot training and validation accuracy\n",
        "plt.subplot(1, 2, 2)\n",
        "plt.plot(history.history['accuracy'], label='Training Accuracy')\n",
        "plt.plot(history.history['val_accuracy'], label='Validation Accuracy')\n",
        "plt.title('Training and Validation Accuracy')\n",
        "plt.xlabel('Epoch')\n",
        "plt.ylabel('Accuracy')\n",
        "plt.legend()\n",
        "\n",
        "plt.tight_layout()\n",
        "plt.show()\n"
      ],
      "metadata": {
        "id": "V-zTj4ZZKQ2p",
        "colab": {
          "base_uri": "https://localhost:8080/",
          "height": 607
        },
        "outputId": "67c46ba6-5b1c-41b0-afb7-3020d76cf27d"
      },
      "execution_count": null,
      "outputs": [
        {
          "output_type": "display_data",
          "data": {
            "text/plain": [
              "<Figure size 1200x600 with 2 Axes>"
            ],
            "image/png": "[encoded data removed]"
          },
          "metadata": {}
        }
      ]
    },
    {
      "cell_type": "markdown",
      "source": [
        "**Load the best weights from your model checkpoint, and create plots demonstrating the classification perfomnce for all three classes. Include these plots in your report, and critically evaluate on the performance of the model across the classes.**"
      ],
      "metadata": {
        "id": "be9li89iSP6E"
      }
    },
    {
      "cell_type": "code",
      "source": [
        "\n",
        "# Load the best weights from the model checkpoint\n",
        "model.load_weights(checkpoint_filepath)\n",
        "\n",
        "# Create a function to make predictions on a set of images\n",
        "def predict_images(model, image_dataset):\n",
        "    predictions = []\n",
        "    true_labels = []\n",
        "\n",
        "    for image, label in image_dataset:\n",
        "        true_labels.extend(label.numpy())\n",
        "        predictions.extend(tf.argmax(model.predict(image), axis=1).numpy())\n",
        "\n",
        "    return true_labels, predictions\n",
        "\n",
        "# Use the function to get predictions for validation data\n",
        "true_labels, predictions = predict_images(model, valid_ds)\n",
        "\n",
        "# Define class labels\n",
        "class_labels = ['cat', 'dog', 'wild']\n",
        "\n",
        "# Create confusion matrix\n",
        "cm = confusion_matrix(true_labels, predictions)\n",
        "\n",
        "# Create a DataFrame for better visualization\n",
        "cm_df = pd.DataFrame(cm, index=class_labels, columns=class_labels)\n",
        "\n",
        "# Plot confusion matrix\n",
        "plt.figure(figsize=(8, 6))\n",
        "sns.heatmap(cm_df, annot=True, cmap='Blues', fmt='g')\n",
        "plt.title('Confusion Matrix')\n",
        "plt.xlabel('Predicted')\n",
        "plt.ylabel('True')\n",
        "plt.show()\n",
        "\n",
        "# Create classification report\n",
        "report = classification_report(true_labels, predictions, target_names=class_labels)\n",
        "\n",
        "# Print and display classification report\n",
        "print(report)\n",
        "\n",
        "# Plot bar chart for precision, recall, and F1-score\n",
        "precision_recall_f1 = pd.DataFrame.from_dict(classification_report(true_labels, predictions, target_names=class_labels, output_dict=True)).iloc[:-1, :3]\n",
        "precision_recall_f1.plot(kind='bar', figsize=(10, 6))\n",
        "plt.title('Precision, Recall, and F1-score for Each Class')\n",
        "plt.xlabel('Class')\n",
        "plt.ylabel('Score')\n",
        "plt.show()\n"
      ],
      "metadata": {
        "id": "x7BtdNrsSlai",
        "colab": {
          "base_uri": "https://localhost:8080/",
          "height": 1000
        },
        "outputId": "e0c3b7e5-1b41-48dd-f963-3e3d19191cbb"
      },
      "execution_count": null,
      "outputs": [
        {
          "output_type": "stream",
          "name": "stdout",
          "text": [
            "4/4 [==============================] - 1s 4ms/step\n",
            "4/4 [==============================] - 0s 4ms/step\n",
            "4/4 [==============================] - 0s 3ms/step\n",
            "4/4 [==============================] - 0s 4ms/step\n",
            "4/4 [==============================] - 0s 3ms/step\n",
            "4/4 [==============================] - 0s 4ms/step\n",
            "4/4 [==============================] - 0s 6ms/step\n",
            "4/4 [==============================] - 0s 4ms/step\n",
            "4/4 [==============================] - 0s 5ms/step\n",
            "4/4 [==============================] - 0s 5ms/step\n",
            "4/4 [==============================] - 0s 4ms/step\n",
            "3/3 [==============================] - 0s 137ms/step\n"
          ]
        },
        {
          "output_type": "display_data",
          "data": {
            "text/plain": [
              "<Figure size 800x600 with 2 Axes>"
            ],
            "image/png": "[encoded data removed]"
          },
          "metadata": {}
        },
        {
          "output_type": "stream",
          "name": "stdout",
          "text": [
            "              precision    recall  f1-score   support\n",
            "\n",
            "         cat       0.94      0.90      0.92       500\n",
            "         dog       0.86      0.92      0.89       500\n",
            "        wild       0.90      0.88      0.89       500\n",
            "\n",
            "    accuracy                           0.90      1500\n",
            "   macro avg       0.90      0.90      0.90      1500\n",
            "weighted avg       0.90      0.90      0.90      1500\n",
            "\n"
          ]
        },
        {
          "output_type": "display_data",
          "data": {
            "text/plain": [
              "<Figure size 1000x600 with 1 Axes>"
            ],
            "image/png": "[encoded data removed]"
          },
          "metadata": {}
        }
      ]
    },
    {
      "cell_type": "code",
      "source": [],
      "metadata": {
        "id": "NCcGf7RzOCbs"
      },
      "execution_count": null,
      "outputs": []
    }
  ]
}